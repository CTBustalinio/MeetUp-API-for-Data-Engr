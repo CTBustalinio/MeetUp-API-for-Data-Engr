{
 "cells": [
  {
   "cell_type": "code",
   "execution_count": 1,
   "metadata": {
    "collapsed": true,
    "deletable": true,
    "editable": true
   },
   "outputs": [],
   "source": [
    "from pyspark.sql import Row\n",
    "from pyspark.sql.functions import monotonically_increasing_id\n",
    "import json"
   ]
  },
  {
   "cell_type": "code",
   "execution_count": 2,
   "metadata": {
    "collapsed": false,
    "deletable": true,
    "editable": true
   },
   "outputs": [],
   "source": [
    "from pyspark.sql.functions import explode"
   ]
  },
  {
   "cell_type": "code",
   "execution_count": null,
   "metadata": {
    "collapsed": true
   },
   "outputs": [],
   "source": [
    "from pyspark.sql import SQLContext"
   ]
  },
  {
   "cell_type": "code",
   "execution_count": 3,
   "metadata": {
    "collapsed": true,
    "deletable": true,
    "editable": true
   },
   "outputs": [],
   "source": [
    "import pandas as pd"
   ]
  },
  {
   "cell_type": "code",
   "execution_count": 4,
   "metadata": {
    "collapsed": true,
    "deletable": true,
    "editable": true
   },
   "outputs": [],
   "source": [
    "sc = spark.sparkContext"
   ]
  },
  {
   "cell_type": "markdown",
   "metadata": {
    "deletable": true,
    "editable": true
   },
   "source": [
    "### Read txtFiles"
   ]
  },
  {
   "cell_type": "code",
   "execution_count": 5,
   "metadata": {
    "collapsed": false,
    "deletable": true,
    "editable": true
   },
   "outputs": [],
   "source": [
    "lines = sc.textFile(\"s3a://meetupstream/2017/*/*/*/*\")"
   ]
  },
  {
   "cell_type": "code",
   "execution_count": 6,
   "metadata": {
    "collapsed": true,
    "deletable": true,
    "editable": true
   },
   "outputs": [],
   "source": [
    "parts = lines.map(lambda l: l.split(\"\\n\"))"
   ]
  },
  {
   "cell_type": "code",
   "execution_count": 7,
   "metadata": {
    "collapsed": false,
    "deletable": true,
    "editable": true
   },
   "outputs": [],
   "source": [
    "json_rdd=parts.map(lambda l: Row(rsvp = eval(json.loads(l[0]))))"
   ]
  },
  {
   "cell_type": "markdown",
   "metadata": {
    "deletable": true,
    "editable": true
   },
   "source": [
    "### Group topics"
   ]
  },
  {
   "cell_type": "code",
   "execution_count": 8,
   "metadata": {
    "collapsed": false,
    "deletable": true,
    "editable": true
   },
   "outputs": [],
   "source": [
    "group_topics_rdd = json_rdd.map(lambda x: Row(group_id = x['rsvp']['group']['group_id'], \n",
    "                                                  group_topic=x['rsvp']['group']['group_topics']))"
   ]
  },
  {
   "cell_type": "code",
   "execution_count": 9,
   "metadata": {
    "collapsed": false,
    "deletable": true,
    "editable": true
   },
   "outputs": [
    {
     "data": {
      "text/plain": [
       "[{'topic_name': 'Spirituality', 'urlkey': 'spirituality'},\n",
       " {'topic_name': 'Witchcraft', 'urlkey': 'everything-witchcraft'},\n",
       " {'topic_name': 'Witches', 'urlkey': 'witches'},\n",
       " {'topic_name': 'Pagans & Witches', 'urlkey': 'pagans-witches'},\n",
       " {'topic_name': 'Wiccan', 'urlkey': 'wiccan'},\n",
       " {'topic_name': 'Pagan', 'urlkey': 'pagan'},\n",
       " {'topic_name': 'Herbalists', 'urlkey': 'herbalists'},\n",
       " {'topic_name': 'Magick', 'urlkey': 'magick'},\n",
       " {'topic_name': 'Earth-Based Spirituality',\n",
       "  'urlkey': 'earth-based-spirituality'},\n",
       " {'topic_name': 'Pagan and Earth Based Spirituality',\n",
       "  'urlkey': 'pagan-and-earth-based-spirituality'},\n",
       " {'topic_name': 'Building a Pagan Community',\n",
       "  'urlkey': 'building-a-pagan-community'}]"
      ]
     },
     "execution_count": 9,
     "metadata": {},
     "output_type": "execute_result"
    }
   ],
   "source": [
    "group_topics_rdd.take(3)[0]['group_topic']"
   ]
  },
  {
   "cell_type": "code",
   "execution_count": 10,
   "metadata": {
    "collapsed": true,
    "deletable": true,
    "editable": true
   },
   "outputs": [],
   "source": [
    "group_topics_df = group_topics_rdd.toDF()"
   ]
  },
  {
   "cell_type": "code",
   "execution_count": 11,
   "metadata": {
    "collapsed": false,
    "deletable": true,
    "editable": true
   },
   "outputs": [
    {
     "name": "stdout",
     "output_type": "stream",
     "text": [
      "root\n",
      " |-- group_id: long (nullable = true)\n",
      " |-- group_topic: array (nullable = true)\n",
      " |    |-- element: map (containsNull = true)\n",
      " |    |    |-- key: string\n",
      " |    |    |-- value: string (valueContainsNull = true)\n",
      "\n"
     ]
    }
   ],
   "source": [
    "group_topics_df.printSchema()"
   ]
  },
  {
   "cell_type": "code",
   "execution_count": 12,
   "metadata": {
    "collapsed": false,
    "deletable": true,
    "editable": true
   },
   "outputs": [],
   "source": [
    "group_topics_explode = group_topics_df.select(group_topics_df['group_id'],explode(group_topics_df['group_topic']))\n"
   ]
  },
  {
   "cell_type": "code",
   "execution_count": 21,
   "metadata": {
    "collapsed": true,
    "deletable": true,
    "editable": true
   },
   "outputs": [],
   "source": [
    "group_topics_isolate = group_topics_explode.select(group_topics_explode['group_id'], group_topics_explode['col']['topic_name'].alias('group_topic')).distinct()"
   ]
  },
  {
   "cell_type": "code",
   "execution_count": 22,
   "metadata": {
    "collapsed": false,
    "deletable": true,
    "editable": true
   },
   "outputs": [
    {
     "data": {
      "text/plain": [
       "[Row(group_id=18442105, group_topic=u'Massage Exchange'),\n",
       " Row(group_id=18506339, group_topic=u'Social Events in the Edinburgh Area'),\n",
       " Row(group_id=18828826, group_topic=u'New Technology'),\n",
       " Row(group_id=13341812, group_topic=u'Predictive Analytics'),\n",
       " Row(group_id=11331232, group_topic=u'Charity Events'),\n",
       " Row(group_id=249197, group_topic=u'Mountain Biking'),\n",
       " Row(group_id=18479804, group_topic=u'First Time Real Estate Investing'),\n",
       " Row(group_id=1770743, group_topic=u\"Women's Fitness\"),\n",
       " Row(group_id=11356872, group_topic=u'Small Business Owners'),\n",
       " Row(group_id=1391310, group_topic=u'Singing'),\n",
       " Row(group_id=1714360, group_topic=u'Qigong Excercise'),\n",
       " Row(group_id=1810078, group_topic=u'Spirituality'),\n",
       " Row(group_id=19564464, group_topic=u\"Men's Support Groups\"),\n",
       " Row(group_id=18456912, group_topic=u'Knitting'),\n",
       " Row(group_id=2546182, group_topic=u'Coffee'),\n",
       " Row(group_id=7948592, group_topic=u'German Language'),\n",
       " Row(group_id=17097262, group_topic=u'Atheist'),\n",
       " Row(group_id=19490701, group_topic=u'Software QA and Testing'),\n",
       " Row(group_id=1777662, group_topic=u'Foodie'),\n",
       " Row(group_id=1330842, group_topic=u'Theater')]"
      ]
     },
     "execution_count": 22,
     "metadata": {},
     "output_type": "execute_result"
    }
   ],
   "source": [
    "group_topics_isolate.head(20)"
   ]
  },
  {
   "cell_type": "code",
   "execution_count": 23,
   "metadata": {
    "collapsed": false
   },
   "outputs": [
    {
     "data": {
      "text/plain": [
       "245671"
      ]
     },
     "execution_count": 23,
     "metadata": {},
     "output_type": "execute_result"
    }
   ],
   "source": [
    "group_topics_isolate.count()"
   ]
  },
  {
   "cell_type": "code",
   "execution_count": 28,
   "metadata": {
    "collapsed": true
   },
   "outputs": [],
   "source": [
    "group_topics_isolate.toPandas().to_csv('group_topics.csv', encoding = 'utf-8')"
   ]
  },
  {
   "cell_type": "markdown",
   "metadata": {
    "deletable": true,
    "editable": true
   },
   "source": [
    "### Create DataFrame"
   ]
  },
  {
   "cell_type": "code",
   "execution_count": 15,
   "metadata": {
    "collapsed": false,
    "deletable": true,
    "editable": true
   },
   "outputs": [],
   "source": [
    "data = spark.createDataFrame(json_rdd)"
   ]
  },
  {
   "cell_type": "code",
   "execution_count": 16,
   "metadata": {
    "collapsed": false,
    "deletable": true,
    "editable": true
   },
   "outputs": [
    {
     "name": "stdout",
     "output_type": "stream",
     "text": [
      "root\n",
      " |-- rsvp: map (nullable = true)\n",
      " |    |-- key: string\n",
      " |    |-- value: map (valueContainsNull = true)\n",
      " |    |    |-- key: string\n",
      " |    |    |-- value: string (valueContainsNull = true)\n",
      "\n"
     ]
    }
   ],
   "source": [
    "data.printSchema()"
   ]
  },
  {
   "cell_type": "code",
   "execution_count": 17,
   "metadata": {
    "collapsed": false,
    "deletable": true,
    "editable": true
   },
   "outputs": [
    {
     "data": {
      "text/plain": [
       "74648"
      ]
     },
     "execution_count": 17,
     "metadata": {},
     "output_type": "execute_result"
    }
   ],
   "source": [
    "data.count()"
   ]
  },
  {
   "cell_type": "code",
   "execution_count": 20,
   "metadata": {
    "collapsed": true
   },
   "outputs": [],
   "source": [
    "data=data.select(monotonically_increasing_id().alias('row_id'), data['rsvp'])"
   ]
  },
  {
   "cell_type": "markdown",
   "metadata": {
    "deletable": true,
    "editable": true
   },
   "source": [
    "### 3NF tables"
   ]
  },
  {
   "cell_type": "code",
   "execution_count": 24,
   "metadata": {
    "collapsed": false,
    "deletable": true,
    "editable": true
   },
   "outputs": [],
   "source": [
    "venue_DF=data.select(data['rsvp']['venue']['venue_id'].alias('venue_id'),\n",
    "               data['rsvp']['venue']['lat'].alias('venue_lat'),\n",
    "               data['rsvp']['venue']['lon'].alias('venue_lon'),\n",
    "               data['rsvp']['venue']['venue_name'].alias('venue_name'),\n",
    "               data['rsvp']['venue']['visibility'].alias('venue_visibility')).distinct()\n",
    "\n",
    "event_DF = data.select(data['rsvp']['event']['event_id'].alias('event_id'),\n",
    "                          data['rsvp']['event']['event_name'].alias('event_name'),\n",
    "                          data['rsvp']['event']['event_url'].alias('event_url'),\n",
    "                          data['rsvp']['event']['time'].alias('event_time')).distinct()\n",
    "\n",
    "member_DF = data.select(data['rsvp']['member']['member_id'].alias('member_id'),\n",
    "               data['rsvp']['member']['member_name'].alias('member_name'),\n",
    "                data['rsvp']['member']['photo'].alias('member_photo')).distinct()\n",
    "\n",
    "group_DF = data.select(data['rsvp']['group']['group_id'].alias('group_id'),\n",
    "                          data['rsvp']['group']['group_country'].alias('group_country'),\n",
    "                          data['rsvp']['group']['group_city'].alias('group_city'),\n",
    "                          data['rsvp']['group']['group_lat'].alias('group_lat'),\n",
    "                          data['rsvp']['group']['group_long'].alias('group_long'),\n",
    "                          data['rsvp']['group']['group_urlname'].alias('group_urlname')).distinct()\n",
    "\n",
    "rsvp_DF = data.select(data['row_id'].alias('row_id'), \n",
    "                         data['rsvp']['venue']['venue_id'].alias('venue_id'),\n",
    "                         data['rsvp']['event']['event_id'].alias('event_id'),\n",
    "                         data['rsvp']['member']['member_id'].alias('member_id'),\n",
    "                         data['rsvp']['group']['group_id'].alias('group_id'),\n",
    "                         data['rsvp']['rsvp_id'].alias('rsvp_id'),\n",
    "                         data['rsvp']['guests'].alias('guests'),\n",
    "                         data['rsvp']['mtime'].alias('mtime'),\n",
    "                         data['rsvp']['response'].alias('response'))"
   ]
  },
  {
   "cell_type": "markdown",
   "metadata": {},
   "source": [
    "### to Pandas"
   ]
  },
  {
   "cell_type": "code",
   "execution_count": 27,
   "metadata": {
    "collapsed": true,
    "deletable": true,
    "editable": true
   },
   "outputs": [],
   "source": [
    "\n",
    "venue_DF.toPandas().to_csv('venue.csv', encoding = 'utf-8')\n",
    "event_DF.toPandas().to_csv('event.csv', encoding = 'utf-8')\n",
    "group_DF.toPandas().to_csv('group.csv', encoding = 'utf-8')\n",
    "member_DF.toPandas().to_csv('member.csv', encoding = 'utf-8')\n",
    "rsvp_DF.toPandas().to_csv('rsvp.csv', encoding = 'utf-8')"
   ]
  },
  {
   "cell_type": "markdown",
   "metadata": {
    "collapsed": true,
    "deletable": true,
    "editable": true
   },
   "source": [
    "### Create 1NF "
   ]
  },
  {
   "cell_type": "code",
   "execution_count": null,
   "metadata": {
    "collapsed": true
   },
   "outputs": [],
   "source": [
    "sqlCtx = SQLContext(sc)"
   ]
  },
  {
   "cell_type": "code",
   "execution_count": null,
   "metadata": {
    "collapsed": true
   },
   "outputs": [],
   "source": [
    "data_1NF = sqlCtx.sql(\"\"\" SELECT * \n",
    "                    FROM rsvp_DF r \n",
    "                    LEFT JOIN group_DF g on r.group_id = g.group_id\n",
    "                    LEFT JOIN group_topics_isolate t on r.group_id = t.group_id\n",
    "                    LEFT JOIN event_DF e on r.event_id = e.event_id\n",
    "                    LEFT JOIN member_DF m on r.member_id = m.member_id\n",
    "                    LEFT JOIN venue_DF v on r.venue_id = v.venue_id\n",
    "                    \"\"\").collect()"
   ]
  }
 ],
 "metadata": {
  "anaconda-cloud": {},
  "kernelspec": {
   "display_name": "Python [dsci6007]",
   "language": "python",
   "name": "Python [dsci6007]"
  },
  "language_info": {
   "codemirror_mode": {
    "name": "ipython",
    "version": 2
   },
   "file_extension": ".py",
   "mimetype": "text/x-python",
   "name": "python",
   "nbconvert_exporter": "python",
   "pygments_lexer": "ipython2",
   "version": "2.7.13"
  }
 },
 "nbformat": 4,
 "nbformat_minor": 2
}
