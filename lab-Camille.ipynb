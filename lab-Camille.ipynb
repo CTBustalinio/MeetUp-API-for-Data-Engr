{
 "cells": [
  {
   "cell_type": "code",
   "execution_count": 1,
   "metadata": {
    "collapsed": true,
    "deletable": true,
    "editable": true
   },
   "outputs": [],
   "source": [
    "from pyspark.sql import Row\n",
    "from pyspark.sql.functions import monotonically_increasing_id\n",
    "import json"
   ]
  },
  {
   "cell_type": "code",
   "execution_count": 37,
   "metadata": {
    "collapsed": true,
    "deletable": true,
    "editable": true
   },
   "outputs": [],
   "source": [
    "import pandas as pd"
   ]
  },
  {
   "cell_type": "code",
   "execution_count": 2,
   "metadata": {
    "collapsed": true,
    "deletable": true,
    "editable": true
   },
   "outputs": [],
   "source": [
    "sc = spark.sparkContext"
   ]
  },
  {
   "cell_type": "markdown",
   "metadata": {
    "deletable": true,
    "editable": true
   },
   "source": [
    "### Read txtFiles"
   ]
  },
  {
   "cell_type": "code",
   "execution_count": 3,
   "metadata": {
    "collapsed": true,
    "deletable": true,
    "editable": true
   },
   "outputs": [],
   "source": [
    "lines = sc.textFile(\"s3a://meetupstream/2017/*/*/*/*\")"
   ]
  },
  {
   "cell_type": "code",
   "execution_count": 4,
   "metadata": {
    "collapsed": true,
    "deletable": true,
    "editable": true
   },
   "outputs": [],
   "source": [
    "parts = lines.map(lambda l: l.split(\"\\n\"))"
   ]
  },
  {
   "cell_type": "code",
   "execution_count": 5,
   "metadata": {
    "collapsed": false,
    "deletable": true,
    "editable": true
   },
   "outputs": [],
   "source": [
    "json_rdd=parts.map(lambda l: Row(rsvp = eval(json.loads(l[0]))))"
   ]
  },
  {
   "cell_type": "code",
   "execution_count": 6,
   "metadata": {
    "collapsed": false,
    "deletable": true,
    "editable": true
   },
   "outputs": [],
   "source": [
    "data = spark.createDataFrame(json_rdd)"
   ]
  },
  {
   "cell_type": "code",
   "execution_count": 7,
   "metadata": {
    "collapsed": false,
    "deletable": true,
    "editable": true
   },
   "outputs": [
    {
     "name": "stdout",
     "output_type": "stream",
     "text": [
      "root\n",
      " |-- rsvp: map (nullable = true)\n",
      " |    |-- key: string\n",
      " |    |-- value: map (valueContainsNull = true)\n",
      " |    |    |-- key: string\n",
      " |    |    |-- value: string (valueContainsNull = true)\n",
      "\n"
     ]
    }
   ],
   "source": [
    "data.printSchema()"
   ]
  },
  {
   "cell_type": "code",
   "execution_count": 8,
   "metadata": {
    "collapsed": false
   },
   "outputs": [
    {
     "data": {
      "text/plain": [
       "1224415"
      ]
     },
     "execution_count": 8,
     "metadata": {},
     "output_type": "execute_result"
    }
   ],
   "source": [
    "data.count()"
   ]
  },
  {
   "cell_type": "markdown",
   "metadata": {
    "deletable": true,
    "editable": true
   },
   "source": [
    "### Filter to Data Science groups only"
   ]
  },
  {
   "cell_type": "code",
   "execution_count": 9,
   "metadata": {
    "collapsed": true,
    "deletable": true,
    "editable": true
   },
   "outputs": [],
   "source": [
    "DS_data = data.filter(data['rsvp']['group']['group_topics'].like('%ata%cience%'))"
   ]
  },
  {
   "cell_type": "code",
   "execution_count": 10,
   "metadata": {
    "collapsed": true,
    "deletable": true,
    "editable": true
   },
   "outputs": [],
   "source": [
    "DS_data=DS_data.select(monotonically_increasing_id().alias('row_id'), DS_data['rsvp'])"
   ]
  },
  {
   "cell_type": "code",
   "execution_count": 11,
   "metadata": {
    "collapsed": false,
    "deletable": true,
    "editable": true
   },
   "outputs": [
    {
     "data": {
      "text/plain": [
       "[Row(row_id=0, rsvp={u'group': {u'group_city': u'Oslo', u'group_lat': u'59.91', u'group_urlname': u'Oslo-Data-Science', u'group_name': u'Oslo Data Science Meetup', u'group_lon': u'10.75', u'group_topics': u'[{urlkey=data-science, topic_name=Data Science}, {urlkey=machine-learning, topic_name=Machine Learning}, {urlkey=data-analysis-and-modeling, topic_name=Data Analysis and Modeling}, {urlkey=statistical-computing, topic_name=Statistical Computing}, {urlkey=data-analytics, topic_name=Data Analytics}, {urlkey=data-visualization, topic_name=Data Visualization}, {urlkey=predictive-analytics, topic_name=Predictive Analytics}, {urlkey=applied-statistics, topic_name=Applied Statistics}, {urlkey=ai, topic_name=Artificial Intelligence}]', u'group_id': u'18698284', u'group_country': u'no'}, u'rsvp_id': None, u'venue': {u'lat': u'59.92345', u'venue_id': u'17454962', u'lon': u'10.73179', u'venue_name': u'Teknologihuset'}, u'visibility': None, u'event': {u'event_name': u'Creating and testing recommendation models', u'event_id': u'237132831', u'event_url': u'https:\\\\/\\\\/www.meetup.com\\\\/Oslo-Data-Science\\\\/events\\\\/237132831\\\\/', u'time': u'1488214800000'}, u'member': {u'photo': u'http:\\\\/\\\\/photos1.meetupstatic.com\\\\/photos\\\\/member\\\\/7\\\\/5\\\\/7\\\\/f\\\\/thumb_243090079.jpeg', u'member_name': u'Patrick Merlot', u'member_id': u'111083232'}, u'guests': None, u'mtime': None, u'response': None})]"
      ]
     },
     "execution_count": 11,
     "metadata": {},
     "output_type": "execute_result"
    }
   ],
   "source": [
    "DS_data.head(1)"
   ]
  },
  {
   "cell_type": "code",
   "execution_count": 12,
   "metadata": {
    "collapsed": false
   },
   "outputs": [
    {
     "data": {
      "text/plain": [
       "30802"
      ]
     },
     "execution_count": 12,
     "metadata": {},
     "output_type": "execute_result"
    }
   ],
   "source": [
    "DS_data.count()"
   ]
  },
  {
   "cell_type": "markdown",
   "metadata": {
    "deletable": true,
    "editable": true
   },
   "source": [
    "### Create Normal tables"
   ]
  },
  {
   "cell_type": "code",
   "execution_count": 48,
   "metadata": {
    "collapsed": false,
    "deletable": true,
    "editable": true
   },
   "outputs": [
    {
     "data": {
      "text/plain": [
       "[Row(venue_id=u'17454962', venue_lat=u'59.92345', venue_lon=u'10.73179', venue_name=u'Teknologihuset', venue_visibility=None),\n",
       " Row(venue_id=u'24578702', venue_lat=u'33.84705', venue_lon=u'-84.357201', venue_name=u'RentPath, Inc.', venue_visibility=None)]"
      ]
     },
     "execution_count": 48,
     "metadata": {},
     "output_type": "execute_result"
    }
   ],
   "source": [
    "#venue\n",
    "DS_data.select(DS_data['rsvp']['venue']['venue_id'].alias('venue_id'),\n",
    "               DS_data['rsvp']['venue']['lat'].alias('venue_lat'),\n",
    "               DS_data['rsvp']['venue']['lon'].alias('venue_lon'),\n",
    "               DS_data['rsvp']['venue']['venue_name'].alias('venue_name'),\n",
    "               DS_data['rsvp']['venue']['visibility'].alias('venue_visibility')).head(2)"
   ]
  },
  {
   "cell_type": "code",
   "execution_count": 49,
   "metadata": {
    "collapsed": false,
    "deletable": true,
    "editable": true
   },
   "outputs": [],
   "source": [
    "#venue\n",
    "venue_DF=DS_data.select(DS_data['rsvp']['venue']['venue_id'].alias('venue_id'),\n",
    "               DS_data['rsvp']['venue']['lat'].alias('venue_lat'),\n",
    "               DS_data['rsvp']['venue']['lon'].alias('venue_lon'),\n",
    "               DS_data['rsvp']['venue']['venue_name'].alias('venue_name'),\n",
    "               DS_data['rsvp']['venue']['visibility'].alias('venue_visibility')).distinct()"
   ]
  },
  {
   "cell_type": "code",
   "execution_count": 54,
   "metadata": {
    "collapsed": true,
    "deletable": true,
    "editable": true
   },
   "outputs": [],
   "source": [
    "event_DF = DS_data.select(DS_data['rsvp']['event']['event_id'].alias('event_id'),\n",
    "                          DS_data['rsvp']['event']['event_name'].alias('event_name'),\n",
    "                          DS_data['rsvp']['event']['event_url'].alias('event_url'),\n",
    "                          DS_data['rsvp']['event']['time'].alias('event_time')).distinct()"
   ]
  },
  {
   "cell_type": "code",
   "execution_count": 55,
   "metadata": {
    "collapsed": true,
    "deletable": true,
    "editable": true
   },
   "outputs": [],
   "source": [
    "member_DF = DS_data.select(DS_data['rsvp']['member']['member_id'].alias('member_id'),\n",
    "               DS_data['rsvp']['member']['member_name'].alias('member_name'),\n",
    "                DS_data['rsvp']['member']['photo'].alias('member_photo')).distinct()"
   ]
  },
  {
   "cell_type": "code",
   "execution_count": 56,
   "metadata": {
    "collapsed": true,
    "deletable": true,
    "editable": true
   },
   "outputs": [],
   "source": [
    "group_DF = DS_data.select(DS_data['rsvp']['group']['group_id'].alias('group_id'),\n",
    "                          DS_data['rsvp']['group']['group_country'].alias('group_country'),\n",
    "                          DS_data['rsvp']['group']['group_city'].alias('group_city'),\n",
    "                          DS_data['rsvp']['group']['group_lat'].alias('group_lat'),\n",
    "                          DS_data['rsvp']['group']['group_long'].alias('group_long'),\n",
    "                          DS_data['rsvp']['group']['group_urlname'].alias('group_urlname')).distinct()"
   ]
  },
  {
   "cell_type": "code",
   "execution_count": 57,
   "metadata": {
    "collapsed": false,
    "deletable": true,
    "editable": true
   },
   "outputs": [],
   "source": [
    "rsvp_DF = DS_data.select(DS_data['row_id'].alias('row_id'), \n",
    "                         DS_data['rsvp']['venue']['venue_id'].alias('venue_id'),\n",
    "                         DS_data['rsvp']['event']['event_id'].alias('event_id'),\n",
    "                         DS_data['rsvp']['member']['member_id'].alias('member_id'),\n",
    "                         DS_data['rsvp']['group']['group_id'].alias('group_id'),\n",
    "                         DS_data['rsvp']['rsvp_id'].alias('rsvp_id'),\n",
    "                         DS_data['rsvp']['guests'].alias('guests'),\n",
    "                         DS_data['rsvp']['mtime'].alias('mtime'),\n",
    "                         DS_data['rsvp']['response'].alias('response'))"
   ]
  },
  {
   "cell_type": "markdown",
   "metadata": {
    "deletable": true,
    "editable": true
   },
   "source": [
    "### Export to S3"
   ]
  },
  {
   "cell_type": "code",
   "execution_count": null,
   "metadata": {
    "collapsed": false,
    "deletable": true,
    "editable": true
   },
   "outputs": [],
   "source": [
    "venue_DF.write.parquet('s3a://meetupstream/csv_df/venue_Df/')\n",
    "group_DF.write.parquet('s3a://meetupstream/csv_df/group_DF/')\n",
    "event_DF.write.parquet('s3a://meetupstream/csv_df/event_DF/')\n",
    "member_DF.write.parquet('s3a://meetupstream/csv_df/member_DF/')\n",
    "rsvp_DF.write.parquet('s3a://meetupstream/csv_df/rsvp_DF/')\n"
   ]
  },
  {
   "cell_type": "markdown",
   "metadata": {
    "deletable": true,
    "editable": true
   },
   "source": [
    "### Write Tables"
   ]
  },
  {
   "cell_type": "code",
   "execution_count": 68,
   "metadata": {
    "collapsed": false
   },
   "outputs": [],
   "source": [
    "venue_DF.toPandas().to_csv('venue.csv', encoding = 'utf-8')"
   ]
  },
  {
   "cell_type": "code",
   "execution_count": 60,
   "metadata": {
    "collapsed": true
   },
   "outputs": [],
   "source": [
    "event_DF.toPandas().to_csv('event.csv', encoding = 'utf-8')"
   ]
  },
  {
   "cell_type": "code",
   "execution_count": 69,
   "metadata": {
    "collapsed": true
   },
   "outputs": [],
   "source": [
    "member_DF.toPandas().to_csv('member.csv', encoding = 'utf-8')"
   ]
  },
  {
   "cell_type": "code",
   "execution_count": 63,
   "metadata": {
    "collapsed": false
   },
   "outputs": [],
   "source": [
    "group_DF.toPandas().to_csv('group.csv', encoding = 'utf-8')"
   ]
  },
  {
   "cell_type": "code",
   "execution_count": 64,
   "metadata": {
    "collapsed": true
   },
   "outputs": [],
   "source": [
    "rsvp_DF.toPandas().to_csv('rsvp.csv', encoding = 'utf-8')"
   ]
  },
  {
   "cell_type": "code",
   "execution_count": null,
   "metadata": {
    "collapsed": true
   },
   "outputs": [],
   "source": []
  }
 ],
 "metadata": {
  "anaconda-cloud": {},
  "kernelspec": {
   "display_name": "Python [Root]",
   "language": "python",
   "name": "Python [Root]"
  },
  "language_info": {
   "codemirror_mode": {
    "name": "ipython",
    "version": 3
   },
   "file_extension": ".py",
   "mimetype": "text/x-python",
   "name": "python",
   "nbconvert_exporter": "python",
   "pygments_lexer": "ipython3",
   "version": "3.5.2"
  }
 },
 "nbformat": 4,
 "nbformat_minor": 2
}
